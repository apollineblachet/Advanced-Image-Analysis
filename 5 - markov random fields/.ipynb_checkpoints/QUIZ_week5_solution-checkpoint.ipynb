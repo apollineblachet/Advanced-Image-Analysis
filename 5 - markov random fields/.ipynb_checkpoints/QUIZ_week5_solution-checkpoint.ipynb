{
 "cells": [
  {
   "cell_type": "markdown",
   "id": "26143b57",
   "metadata": {},
   "source": [
    "# QUIZ WEEK 5 SOLUTIONS"
   ]
  },
  {
   "cell_type": "markdown",
   "id": "63a90f84",
   "metadata": {},
   "source": [
    "## Questions:\n",
    "- What is the prior energy of the maximum likelihood solution?\n",
    "- What is the likelihood energy of the configuration where the leftmost two columns are labeled as belonging to the segment 1, middle two columns are labeled as belonging to the segment 2 and rightmost two colums are labeled as belonging to the segment 3?\n",
    "- What is the posterior energy of the maximum a posteriory solution?"
   ]
  },
  {
   "cell_type": "code",
   "execution_count": 15,
   "id": "d0c95345",
   "metadata": {},
   "outputs": [
    {
     "name": "stdout",
     "output_type": "stream",
     "text": [
      "prior_noisy 140\n",
      "likelihood_stripes 79\n",
      "posterior_small 114\n",
      "posterior_GC 114\n"
     ]
    }
   ],
   "source": [
    "#%%\n",
    "import numpy as np\n",
    "            \n",
    "def prior_energy(S, beta):\n",
    "    return beta * ((np.diff(S, axis=0)!=0).sum() + (np.diff(S, axis=1)!=0).sum())   \n",
    "\n",
    "I = np.array([[1, 2, 6, 4, 10,  8],\n",
    "              [4, 1, 3, 5, 9, 7],\n",
    "              [5, 2, 3, 5, 4, 8]])\n",
    "mu = np.array([2, 5, 10])\n",
    "beta = 10\n",
    "\n",
    "#%% Question 1\n",
    "U = (np.stack([I-mu[0], I-mu[1], I-mu[2]], axis=2)**2).astype(int)\n",
    "S0 = np.argmin(U, axis=2)\n",
    "prior_noisy = prior_energy(S0, beta)\n",
    "print(f'prior_noisy {prior_noisy}')\n",
    "\n",
    "#%% Question 2\n",
    "\n",
    "def likelihood_energy(S, I, mu):\n",
    "    return ((mu[S] - I)**2).sum()\n",
    "\n",
    "S = np.tile([0,0,1,1,2,2], (3,1)).astype(int)\n",
    "likelihood_stripes = likelihood_energy(S, I, mu);\n",
    "print(f'likelihood_stripes {likelihood_stripes}')\n",
    "\n",
    "#%% Question 3 - Getting postetrior energy direcly from the solution\n",
    "S_MAP = np.array([[0, 0, 1, 1, 2, 2],\n",
    "                  [0, 0, 1, 1, 2, 2],\n",
    "                  [0, 0, 1, 1, 1, 2]])\n",
    "posterior_small  = prior_energy(S_MAP, beta) + likelihood_energy(S_MAP, I, mu)\n",
    "print(f'posterior_small {posterior_small}')\n",
    "\n",
    "#%% Question 3 - computing MAP using graph cuts\n",
    "import maxflow.fastmin\n",
    "S_GC = S0.copy()\n",
    "maxflow.fastmin.aexpansion_grid(U, beta - \n",
    "                            beta*np.eye(3, 3, dtype=U.dtype), labels = S_GC)\n",
    "posterior_GC  = prior_energy(S_GC, beta) + likelihood_energy(S_GC, I, mu)\n",
    "print(f'posterior_GC {posterior_GC}')\n",
    "\n",
    "\n",
    "# %%"
   ]
  }
 ],
 "metadata": {
  "kernelspec": {
   "display_name": "Python 3 (ipykernel)",
   "language": "python",
   "name": "python3"
  },
  "language_info": {
   "codemirror_mode": {
    "name": "ipython",
    "version": 3
   },
   "file_extension": ".py",
   "mimetype": "text/x-python",
   "name": "python",
   "nbconvert_exporter": "python",
   "pygments_lexer": "ipython3",
   "version": "3.9.12"
  },
  "vscode": {
   "interpreter": {
    "hash": "864c54ae2c00d287136c49aec72343cc9457da9cff5129afc5c16bdd0f87f600"
   }
  }
 },
 "nbformat": 4,
 "nbformat_minor": 5
}
