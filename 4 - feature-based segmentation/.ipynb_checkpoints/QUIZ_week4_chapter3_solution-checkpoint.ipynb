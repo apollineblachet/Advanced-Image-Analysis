{
 "cells": [
  {
   "cell_type": "markdown",
   "id": "608c7b2a",
   "metadata": {},
   "source": [
    "# QUIZ WEEK 4 (chapter 3) SOLUTIONS"
   ]
  },
  {
   "cell_type": "markdown",
   "id": "a4d9315d",
   "metadata": {},
   "source": [
    "## Question 1, features size"
   ]
  },
  {
   "cell_type": "code",
   "execution_count": 1,
   "id": "56f027e9",
   "metadata": {},
   "outputs": [
    {
     "name": "stdout",
     "output_type": "stream",
     "text": [
      "features_size = 2394000\n"
     ]
    }
   ],
   "source": [
    "p = 5\n",
    "h = 256\n",
    "w = 384\n",
    "\n",
    "features_size = (h - p + 1) * (w - p + 1) * (p**2)\n",
    "print(f'{features_size = }')"
   ]
  },
  {
   "cell_type": "markdown",
   "id": "0649178f",
   "metadata": {},
   "source": [
    "## Question 2, cluster probability"
   ]
  },
  {
   "cell_type": "code",
   "execution_count": 2,
   "id": "4329d615",
   "metadata": {},
   "outputs": [
    {
     "name": "stdout",
     "output_type": "stream",
     "text": [
      "cluster_probability = 0.2603369065849923\n"
     ]
    }
   ],
   "source": [
    "cluster_probability = 1 - 483/653\n",
    "print(f'{cluster_probability = }')"
   ]
  },
  {
   "cell_type": "markdown",
   "id": "3179e4d3",
   "metadata": {},
   "source": [
    "## Question 3, dominant segmentation"
   ]
  },
  {
   "cell_type": "code",
   "execution_count": 3,
   "id": "ca50755a",
   "metadata": {},
   "outputs": [
    {
     "name": "stdout",
     "output_type": "stream",
     "text": [
      "dominant_segmentation = 3\n"
     ]
    }
   ],
   "source": [
    "# dominant semgentation\n",
    "import numpy as np\n",
    "\n",
    "P1 = np.array([[0.01, 0.11, 0.21, 0.31, 0.41],\n",
    "    [0.04, 0.14, 0.24, 0.34, 0.44],\n",
    "    [0.07, 0.17, 0.27, 0.37, 0.47]])\n",
    "P2 = np.array([[0.23, 0.26, 0.29, 0.32, 0.35],\n",
    "    [0.30, 0.33, 0.36, 0.39, 0.42],\n",
    "    [0.37, 0.40, 0.43, 0.46, 0.49]])\n",
    "\n",
    "P = np.stack([P1, P2, 1-(P1+P2)])\n",
    "S = np.argmax(P, axis=0) + 1  # segmentation into 1, 2, 3\n",
    "counts = np.unique(S, return_counts=True)[1]  # how many times each label occurs\n",
    "dominant_segmentation = np.argmax(counts) + 1\n",
    "\n",
    "print(f'{dominant_segmentation = }')\n"
   ]
  }
 ],
 "metadata": {
  "kernelspec": {
   "display_name": "Python 3 (ipykernel)",
   "language": "python",
   "name": "python3"
  },
  "language_info": {
   "codemirror_mode": {
    "name": "ipython",
    "version": 3
   },
   "file_extension": ".py",
   "mimetype": "text/x-python",
   "name": "python",
   "nbconvert_exporter": "python",
   "pygments_lexer": "ipython3",
   "version": "3.9.12"
  },
  "vscode": {
   "interpreter": {
    "hash": "b35caa3764096924ce573458b7678f48285fe4447fc77b92472b406a014fb35c"
   }
  }
 },
 "nbformat": 4,
 "nbformat_minor": 5
}
